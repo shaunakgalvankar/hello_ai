{
 "cells": [
  {
   "cell_type": "markdown",
   "metadata": {},
   "source": [
    "<img src=\"http://www.digitalvidya.com/wp-content/uploads/2013/05/logoa5-300x95.png\">"
   ]
  },
  {
   "cell_type": "markdown",
   "metadata": {},
   "source": [
    "## Data Analytics using NumPy Assignment"
   ]
  },
  {
   "cell_type": "code",
   "execution_count": 1,
   "metadata": {},
   "outputs": [],
   "source": [
    "import numpy as np"
   ]
  },
  {
   "cell_type": "code",
   "execution_count": 29,
   "metadata": {},
   "outputs": [
    {
     "name": "stdout",
     "output_type": "stream",
     "text": [
      "(3, 3)\n",
      "9\n",
      "2\n",
      "[[4 3 1]\n",
      " [4 6 8]\n",
      " [9 7 9]]\n",
      "5\n"
     ]
    }
   ],
   "source": [
    "# 1.Create a rank 2 numpy array of random integers and print:a) shape,size and dimensions of the array b) number of odd and even\n",
    "#   integers in the array\n",
    "a=np.array(np.random.randint(10,size=(3,3)))\n",
    "print(a.shape)\n",
    "print(a.size)\n",
    "print(a.ndim)\n",
    "\n",
    "print(a)\n",
    "\n",
    "b=np.where(a%2!=0,1,0)\n",
    "print(np.count_nonzero(b))"
   ]
  },
  {
   "cell_type": "code",
   "execution_count": 32,
   "metadata": {},
   "outputs": [
    {
     "data": {
      "text/plain": [
       "array([[7, 8, 4],\n",
       "       [7, 3, 4],\n",
       "       [6, 9, 2]])"
      ]
     },
     "execution_count": 32,
     "metadata": {},
     "output_type": "execute_result"
    }
   ],
   "source": [
    "# 2.Create a (3X3) numpy array with values ranging from 1 to 9.\n",
    "a=np.array(np.random.randint(10,size=(3,3)))\n",
    "a"
   ]
  },
  {
   "cell_type": "code",
   "execution_count": 41,
   "metadata": {},
   "outputs": [
    {
     "name": "stdout",
     "output_type": "stream",
     "text": [
      "[[5 8 4 7 8]\n",
      " [9 6 3 8 4]\n",
      " [6 6 7 3 7]\n",
      " [5 1 3 3 6]\n",
      " [6 9 8 6 5]]\n",
      "5.72\n",
      "[[None 8 None 7 8]\n",
      " [9 6 None 8 None]\n",
      " [6 6 7 None 7]\n",
      " [None None None None 6]\n",
      " [6 9 8 6 None]]\n"
     ]
    }
   ],
   "source": [
    "# 3.Create a (5X5) random numpy array and print the numbers from the array which are greater than average value of the array.\n",
    "# Hint: Use np.where() function\n",
    "a=np.array(np.random.randint(10,size=(5,5)))\n",
    "print(a)\n",
    "avg=np.mean(a)\n",
    "print(avg)\n",
    "b=np.where(a>avg,a,None)\n",
    "print(b)"
   ]
  },
  {
   "cell_type": "code",
   "execution_count": 56,
   "metadata": {},
   "outputs": [
    {
     "name": "stdout",
     "output_type": "stream",
     "text": [
      "[[23 43 22 19 40 32  6 46  0 23]\n",
      " [42 26 43 16  1 48 39 28 48  7]\n",
      " [41 48 26 43 22 23 23 35 29 28]\n",
      " [35 43 11  7 44 25 14 11  8 36]\n",
      " [28 45 46 12 34 15 24 23 23  6]\n",
      " [28 10  0 25 20 12 16 19 37 32]\n",
      " [24 32 49 44 29  4  7 36 23 45]\n",
      " [ 9 22 34  5 36  4 33 33 36 18]\n",
      " [32 28 47 23 34  6 44 46 11 24]\n",
      " [ 0  5  2 42 11 35 49  1  3 49]]\n",
      "[26.2 30.2 28.  23.6 27.1 20.4 25.5 27.8 21.8 26.8]\n",
      "[25.4 29.8 31.8 23.4 25.6 19.9 29.3 23.  29.5 19.7]\n",
      "[ 0  1 22  7  6  0  4  4  6  0]\n",
      "[46 48 48 44 46 37 49 36 47 49]\n",
      "[0 5 0 5 1 4 6 1 0 6]\n",
      "[42 48 49 44 44 48 49 46 48 49]\n",
      "14.606587554935615\n",
      "213.3524\n"
     ]
    }
   ],
   "source": [
    "# 4.Given an array of random integers:\n",
    "arr1 = np.random.randint(50,size=(10,10))\n",
    "# Find out : a) row wise and column wise mean b) row wise and column wise max and min values c) Variance and Standard Deviation \n",
    "# of the array.\n",
    "print(arr1)\n",
    "\n",
    "row=arr1.mean(axis=0)\n",
    "column=arr1.mean(axis=1)\n",
    "print(row)\n",
    "print(column)\n",
    "\n",
    "row_min=np.amin(arr1,axis=1)\n",
    "row_max=np.amax(arr1,axis=1)\n",
    "print(row_min)\n",
    "print(row_max)\n",
    "column_min=np.amin(arr1,axis=0)\n",
    "column_max=np.amax(arr1,axis=0)\n",
    "print(column_min)\n",
    "print(column_max)\n",
    "\n",
    "print(np.std(arr1))\n",
    "print(np.var(arr1))"
   ]
  },
  {
   "cell_type": "code",
   "execution_count": 60,
   "metadata": {},
   "outputs": [
    {
     "name": "stdout",
     "output_type": "stream",
     "text": [
      "[[4 5]\n",
      " [7 3]]\n",
      "[[2 3]\n",
      " [8 9]]\n",
      "[[48 57]\n",
      " [38 48]]\n",
      "[[48 57]\n",
      " [38 48]]\n"
     ]
    }
   ],
   "source": [
    "# Extra Credits\n",
    "# 5.Given two matrices:\n",
    "arr1 = np.matrix([[4,5],[7,3]])\n",
    "arr2 = np.matrix([[2,3],[8,9]])\n",
    "\n",
    "# Find out the matrix multiplication of the above two matrices without using numpy function and then verify your answer \n",
    "# using np.dot(arr1,arr2) function\n",
    "print(arr1)\n",
    "print(arr2)\n",
    "print(arr1*arr2)\n",
    "print(np.dot(arr1,arr2))"
   ]
  },
  {
   "cell_type": "code",
   "execution_count": null,
   "metadata": {
    "collapsed": true
   },
   "outputs": [],
   "source": []
  }
 ],
 "metadata": {
  "kernelspec": {
   "display_name": "Python 3",
   "language": "python",
   "name": "python3"
  },
  "language_info": {
   "codemirror_mode": {
    "name": "ipython",
    "version": 3
   },
   "file_extension": ".py",
   "mimetype": "text/x-python",
   "name": "python",
   "nbconvert_exporter": "python",
   "pygments_lexer": "ipython3",
   "version": "3.6.5"
  }
 },
 "nbformat": 4,
 "nbformat_minor": 2
}
