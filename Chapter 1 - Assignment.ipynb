{
 "cells": [
  {
   "cell_type": "markdown",
   "metadata": {},
   "source": [
    "<img src=\"https://www.digitalvidya.com/wp-content/uploads/2013/05/Digital-Vidya-Website-Logo-HD-2-300x95.png\">"
   ]
  },
  {
   "cell_type": "markdown",
   "metadata": {},
   "source": [
    "**Q.1 Get the lengths of three sides of triangle. Find its semi-perimeter (Formula : s = (a+b+c)/2)**"
   ]
  },
  {
   "cell_type": "code",
   "execution_count": 1,
   "metadata": {},
   "outputs": [
    {
     "name": "stdout",
     "output_type": "stream",
     "text": [
      "Semi-perimeter of the triangle is 9.750000\n"
     ]
    }
   ],
   "source": [
    "a = 5.5\n",
    "b = 6.5\n",
    "c = 7.5\n",
    "\n",
    "## START CODE HERE\n",
    "\n",
    "# Remove None and replace it with your formula.\n",
    "\n",
    "s = (a+b+c)/2\n",
    "\n",
    "# Code ends here\n",
    "\n",
    "print(\"Semi-perimeter of the triangle is %f\" % s)"
   ]
  },
  {
   "cell_type": "markdown",
   "metadata": {},
   "source": [
    "<table>\n",
    "  <tr>\n",
    "  <td>**Expected Output:**<td>\n",
    "    <td>Semi-perimeter of the triangle is 9.750000</td>\n",
    "  </tr>\n",
    "</table>"
   ]
  },
  {
   "cell_type": "markdown",
   "metadata": {},
   "source": [
    "**Q.2 Given that radius of sphere is 4. Find its surface area (Formula : A=4 x π x $r^{2}$)**\n",
    "<br> Value of π you will get from math module.\n",
    "<br> For printing the output as shown in expected output refer previous question."
   ]
  },
  {
   "cell_type": "code",
   "execution_count": 7,
   "metadata": {},
   "outputs": [
    {
     "name": "stdout",
     "output_type": "stream",
     "text": [
      "Surface area of sphere is 201.06192982974676\n"
     ]
    }
   ],
   "source": [
    "import math\n",
    "\n",
    "r = 4\n",
    "\n",
    "## START CODE HERE\n",
    "\n",
    "# Calculate surface area using given formula and then print it as given in the output\n",
    "print(\"Surface area of sphere is \"+str(4*math.pi*(r**2)))\n",
    "\n",
    "\n",
    "# Code ends here"
   ]
  },
  {
   "cell_type": "markdown",
   "metadata": {},
   "source": [
    "<table>\n",
    "  <tr>\n",
    "  <td>**Expected Output:**<td>\n",
    "    <td>Surface area of sphere is 201.061930 </td>\n",
    "  </tr>\n",
    "</table>"
   ]
  },
  {
   "cell_type": "markdown",
   "metadata": {},
   "source": [
    "**Q.3 Given two sides of the triangle. Find its hypoteneuse. ($c^{2}$ = $a^{2}$ + $b^{2}$)**\n",
    "<br> Here, c is the hypoteneuse, a and b are the other 2 sides.\n",
    "<br> Use the above formula and then use sqrt to get the the value of c from $c^{2}$.\n",
    "<br> For printing the output as shown in expected output refer first question."
   ]
  },
  {
   "cell_type": "code",
   "execution_count": 8,
   "metadata": {},
   "outputs": [
    {
     "name": "stdout",
     "output_type": "stream",
     "text": [
      "Hypoteneuse of the triangle is 5.0\n"
     ]
    }
   ],
   "source": [
    "a = 3 \n",
    "b = 4\n",
    "\n",
    "## START CODE HERE\n",
    "print(\"Hypoteneuse of the triangle is \"+str(math.sqrt((a**2)+(b**2))))\n",
    "\n",
    "\n",
    "# Code ends here"
   ]
  },
  {
   "cell_type": "markdown",
   "metadata": {},
   "source": [
    "<table>\n",
    "  <tr>\n",
    "  <td>**Expected Output:**<td>\n",
    "    <td>Hypoteneuse of the triangle is 5.000000 </td>\n",
    "  </tr>\n",
    "</table>"
   ]
  },
  {
   "cell_type": "markdown",
   "metadata": {
    "collapsed": true
   },
   "source": [
    "# Congratulations\n",
    "\n",
    "You are through the first assignment of the Basic Python Programming Course.\n",
    "<br> Operators play a very important role in Python Programming.\n",
    "<br> You will be learning more about operators when we go through scientific computing in Python using a library called NumPy. \n",
    "<br>You are doing very well.\n",
    "<br>See you in the next chapter."
   ]
  }
 ],
 "metadata": {
  "kernelspec": {
   "display_name": "Python 3",
   "language": "python",
   "name": "python3"
  },
  "language_info": {
   "codemirror_mode": {
    "name": "ipython",
    "version": 3
   },
   "file_extension": ".py",
   "mimetype": "text/x-python",
   "name": "python",
   "nbconvert_exporter": "python",
   "pygments_lexer": "ipython3",
   "version": "3.6.5"
  }
 },
 "nbformat": 4,
 "nbformat_minor": 2
}
